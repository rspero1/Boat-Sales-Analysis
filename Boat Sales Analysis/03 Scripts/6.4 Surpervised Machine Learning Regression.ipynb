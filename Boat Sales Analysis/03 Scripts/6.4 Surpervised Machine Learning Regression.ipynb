{
 "cells": [
  {
   "cell_type": "markdown",
   "id": "8a47799d",
   "metadata": {},
   "source": [
    "# 6.4 Supervised Machine Learning"
   ]
  },
  {
   "cell_type": "markdown",
   "id": "f7b82668",
   "metadata": {},
   "source": [
    "## Index\n",
    "## 1. Import Libraries and Data\n",
    "## 2. Data Cleaning\n",
    "## 3. Prep Data for Regression Analysis\n",
    "## 4. Regression Analysis"
   ]
  },
  {
   "cell_type": "markdown",
   "id": "a07c9e41",
   "metadata": {},
   "source": [
    "# Import Libraries"
   ]
  },
  {
   "cell_type": "code",
   "execution_count": 1,
   "id": "b9319446",
   "metadata": {},
   "outputs": [],
   "source": [
    "import pandas as pd\n",
    "import numpy as np\n",
    "import seaborn as sns\n",
    "import matplotlib\n",
    "import matplotlib.pyplot as plt\n",
    "import os\n",
    "import sklearn\n",
    "from sklearn.model_selection import train_test_split\n",
    "from sklearn.linear_model import LinearRegression\n",
    "from sklearn.metrics import mean_squared_error, r2_score"
   ]
  },
  {
   "cell_type": "code",
   "execution_count": 2,
   "id": "88f6a69e",
   "metadata": {},
   "outputs": [],
   "source": [
    "# To ensure graphs created are displayed in notebook without being called\n",
    "%matplotlib inline"
   ]
  },
  {
   "cell_type": "code",
   "execution_count": 3,
   "id": "ebe7c1fc",
   "metadata": {},
   "outputs": [],
   "source": [
    "#create a path for data\n",
    "path = r'C:\\Users\\Spero\\Documents\\Boat Sales Analysis'"
   ]
  },
  {
   "cell_type": "code",
   "execution_count": 4,
   "id": "dc21de16",
   "metadata": {},
   "outputs": [],
   "source": [
    "# import data\n",
    "df_boat = pd.read_csv(os.path.join(path, '02 Data', 'Prepared Data', 'cleaned_boat_data.csv'), index_col= False)"
   ]
  },
  {
   "cell_type": "code",
   "execution_count": 5,
   "id": "d9111f02",
   "metadata": {},
   "outputs": [
    {
     "data": {
      "text/html": [
       "<div>\n",
       "<style scoped>\n",
       "    .dataframe tbody tr th:only-of-type {\n",
       "        vertical-align: middle;\n",
       "    }\n",
       "\n",
       "    .dataframe tbody tr th {\n",
       "        vertical-align: top;\n",
       "    }\n",
       "\n",
       "    .dataframe thead th {\n",
       "        text-align: right;\n",
       "    }\n",
       "</style>\n",
       "<table border=\"1\" class=\"dataframe\">\n",
       "  <thead>\n",
       "    <tr style=\"text-align: right;\">\n",
       "      <th></th>\n",
       "      <th>Price</th>\n",
       "      <th>Boat Type</th>\n",
       "      <th>Manufacturer</th>\n",
       "      <th>Type</th>\n",
       "      <th>Year Built</th>\n",
       "      <th>Length</th>\n",
       "      <th>Width</th>\n",
       "      <th>Material</th>\n",
       "      <th>Number of views last 7 days</th>\n",
       "      <th>Currency</th>\n",
       "      <th>EURO Price</th>\n",
       "      <th>Country</th>\n",
       "      <th>City</th>\n",
       "    </tr>\n",
       "  </thead>\n",
       "  <tbody>\n",
       "    <tr>\n",
       "      <th>0</th>\n",
       "      <td>3490</td>\n",
       "      <td>Center console boat</td>\n",
       "      <td>Terhi power boats</td>\n",
       "      <td>new boat from stock</td>\n",
       "      <td>2020</td>\n",
       "      <td>4.00</td>\n",
       "      <td>1.50</td>\n",
       "      <td>Thermoplastic</td>\n",
       "      <td>75</td>\n",
       "      <td>EUR</td>\n",
       "      <td>3490.00</td>\n",
       "      <td>Germany</td>\n",
       "      <td>BÃ¶nningstedt</td>\n",
       "    </tr>\n",
       "    <tr>\n",
       "      <th>1</th>\n",
       "      <td>3399</td>\n",
       "      <td>Fishing Boat</td>\n",
       "      <td>Linder power boats</td>\n",
       "      <td>new boat from stock</td>\n",
       "      <td>2019</td>\n",
       "      <td>3.55</td>\n",
       "      <td>1.46</td>\n",
       "      <td>Aluminium</td>\n",
       "      <td>58</td>\n",
       "      <td>EUR</td>\n",
       "      <td>3399.00</td>\n",
       "      <td>Germany</td>\n",
       "      <td>Bayern</td>\n",
       "    </tr>\n",
       "    <tr>\n",
       "      <th>2</th>\n",
       "      <td>3500</td>\n",
       "      <td>Fishing Boat</td>\n",
       "      <td>Terhi power boats</td>\n",
       "      <td>Used boat,Electric</td>\n",
       "      <td>1987</td>\n",
       "      <td>4.35</td>\n",
       "      <td>1.75</td>\n",
       "      <td>GRP</td>\n",
       "      <td>239</td>\n",
       "      <td>CHF</td>\n",
       "      <td>3535.00</td>\n",
       "      <td>Switzerland</td>\n",
       "      <td>Seengen</td>\n",
       "    </tr>\n",
       "    <tr>\n",
       "      <th>3</th>\n",
       "      <td>3500</td>\n",
       "      <td>Sport Boat</td>\n",
       "      <td>GS Nautica power boats</td>\n",
       "      <td>Used boat</td>\n",
       "      <td>2004</td>\n",
       "      <td>4.70</td>\n",
       "      <td>2.00</td>\n",
       "      <td>GRP</td>\n",
       "      <td>69</td>\n",
       "      <td>EUR</td>\n",
       "      <td>3500.00</td>\n",
       "      <td>Italy</td>\n",
       "      <td>Lake Garda</td>\n",
       "    </tr>\n",
       "    <tr>\n",
       "      <th>4</th>\n",
       "      <td>4600</td>\n",
       "      <td>Runabout</td>\n",
       "      <td>Kimple power boats</td>\n",
       "      <td>new boat from stock</td>\n",
       "      <td>2020</td>\n",
       "      <td>4.40</td>\n",
       "      <td>1.65</td>\n",
       "      <td>Aluminium</td>\n",
       "      <td>113</td>\n",
       "      <td>CHF</td>\n",
       "      <td>4646.00</td>\n",
       "      <td>Switzerland</td>\n",
       "      <td>Zugersee</td>\n",
       "    </tr>\n",
       "    <tr>\n",
       "      <th>...</th>\n",
       "      <td>...</td>\n",
       "      <td>...</td>\n",
       "      <td>...</td>\n",
       "      <td>...</td>\n",
       "      <td>...</td>\n",
       "      <td>...</td>\n",
       "      <td>...</td>\n",
       "      <td>...</td>\n",
       "      <td>...</td>\n",
       "      <td>...</td>\n",
       "      <td>...</td>\n",
       "      <td>...</td>\n",
       "      <td>...</td>\n",
       "    </tr>\n",
       "    <tr>\n",
       "      <th>5996</th>\n",
       "      <td>5000</td>\n",
       "      <td>Cabin Boat</td>\n",
       "      <td>Princess power boats</td>\n",
       "      <td>Used boat</td>\n",
       "      <td>1974</td>\n",
       "      <td>7.20</td>\n",
       "      <td>2.70</td>\n",
       "      <td>GRP</td>\n",
       "      <td>1299</td>\n",
       "      <td>CHF</td>\n",
       "      <td>5050.00</td>\n",
       "      <td>Switzerland</td>\n",
       "      <td>Rhein</td>\n",
       "    </tr>\n",
       "    <tr>\n",
       "      <th>5997</th>\n",
       "      <td>4999</td>\n",
       "      <td>Sport Boat,Wakeboard/Wakesurf,Water ski</td>\n",
       "      <td>Tullio Abbate power boats</td>\n",
       "      <td>Used boat,Unleaded</td>\n",
       "      <td>1980</td>\n",
       "      <td>6.00</td>\n",
       "      <td>2.10</td>\n",
       "      <td>GRP</td>\n",
       "      <td>1917</td>\n",
       "      <td>CHF</td>\n",
       "      <td>5048.99</td>\n",
       "      <td>Switzerland</td>\n",
       "      <td>Lake of Zurich</td>\n",
       "    </tr>\n",
       "    <tr>\n",
       "      <th>5998</th>\n",
       "      <td>4950</td>\n",
       "      <td>Fishing Boat</td>\n",
       "      <td>Staempfli power boats</td>\n",
       "      <td>Used boat,Unleaded</td>\n",
       "      <td>1984</td>\n",
       "      <td>6.00</td>\n",
       "      <td>1.62</td>\n",
       "      <td>Plastic</td>\n",
       "      <td>288</td>\n",
       "      <td>CHF</td>\n",
       "      <td>4999.50</td>\n",
       "      <td>Switzerland</td>\n",
       "      <td>Bielersee</td>\n",
       "    </tr>\n",
       "    <tr>\n",
       "      <th>5999</th>\n",
       "      <td>4499</td>\n",
       "      <td>Sport Boat</td>\n",
       "      <td>BlueCraft power boats</td>\n",
       "      <td>new boat from stock,Unleaded</td>\n",
       "      <td>2020</td>\n",
       "      <td>4.40</td>\n",
       "      <td>1.80</td>\n",
       "      <td>GRP</td>\n",
       "      <td>354</td>\n",
       "      <td>EUR</td>\n",
       "      <td>4499.00</td>\n",
       "      <td>Germany</td>\n",
       "      <td>Nordrhein-Westfalen</td>\n",
       "    </tr>\n",
       "    <tr>\n",
       "      <th>6000</th>\n",
       "      <td>3780</td>\n",
       "      <td>Fishing Boat</td>\n",
       "      <td>DarekCo power boats</td>\n",
       "      <td>new boat from stock</td>\n",
       "      <td>2019</td>\n",
       "      <td>3.60</td>\n",
       "      <td>1.60</td>\n",
       "      <td>GRP</td>\n",
       "      <td>194</td>\n",
       "      <td>CHF</td>\n",
       "      <td>3817.80</td>\n",
       "      <td>Switzerland</td>\n",
       "      <td>Brienzersee</td>\n",
       "    </tr>\n",
       "  </tbody>\n",
       "</table>\n",
       "<p>6001 rows × 13 columns</p>\n",
       "</div>"
      ],
      "text/plain": [
       "      Price                                Boat Type  \\\n",
       "0      3490                      Center console boat   \n",
       "1      3399                             Fishing Boat   \n",
       "2      3500                             Fishing Boat   \n",
       "3      3500                               Sport Boat   \n",
       "4      4600                                 Runabout   \n",
       "...     ...                                      ...   \n",
       "5996   5000                               Cabin Boat   \n",
       "5997   4999  Sport Boat,Wakeboard/Wakesurf,Water ski   \n",
       "5998   4950                             Fishing Boat   \n",
       "5999   4499                               Sport Boat   \n",
       "6000   3780                             Fishing Boat   \n",
       "\n",
       "                   Manufacturer                          Type  Year Built  \\\n",
       "0             Terhi power boats           new boat from stock        2020   \n",
       "1            Linder power boats           new boat from stock        2019   \n",
       "2             Terhi power boats            Used boat,Electric        1987   \n",
       "3        GS Nautica power boats                     Used boat        2004   \n",
       "4            Kimple power boats           new boat from stock        2020   \n",
       "...                         ...                           ...         ...   \n",
       "5996       Princess power boats                     Used boat        1974   \n",
       "5997  Tullio Abbate power boats            Used boat,Unleaded        1980   \n",
       "5998      Staempfli power boats            Used boat,Unleaded        1984   \n",
       "5999      BlueCraft power boats  new boat from stock,Unleaded        2020   \n",
       "6000        DarekCo power boats           new boat from stock        2019   \n",
       "\n",
       "      Length  Width       Material  Number of views last 7 days Currency  \\\n",
       "0       4.00   1.50  Thermoplastic                           75      EUR   \n",
       "1       3.55   1.46      Aluminium                           58      EUR   \n",
       "2       4.35   1.75            GRP                          239      CHF   \n",
       "3       4.70   2.00            GRP                           69      EUR   \n",
       "4       4.40   1.65      Aluminium                          113      CHF   \n",
       "...      ...    ...            ...                          ...      ...   \n",
       "5996    7.20   2.70            GRP                         1299      CHF   \n",
       "5997    6.00   2.10            GRP                         1917      CHF   \n",
       "5998    6.00   1.62        Plastic                          288      CHF   \n",
       "5999    4.40   1.80            GRP                          354      EUR   \n",
       "6000    3.60   1.60            GRP                          194      CHF   \n",
       "\n",
       "      EURO Price      Country                   City  \n",
       "0        3490.00      Germany          BÃ¶nningstedt  \n",
       "1        3399.00      Germany                Bayern   \n",
       "2        3535.00  Switzerland                Seengen  \n",
       "3        3500.00        Italy            Lake Garda   \n",
       "4        4646.00  Switzerland              Zugersee   \n",
       "...          ...          ...                    ...  \n",
       "5996     5050.00  Switzerland                 Rhein   \n",
       "5997     5048.99  Switzerland        Lake of Zurich   \n",
       "5998     4999.50  Switzerland             Bielersee   \n",
       "5999     4499.00      Germany   Nordrhein-Westfalen   \n",
       "6000     3817.80  Switzerland           Brienzersee   \n",
       "\n",
       "[6001 rows x 13 columns]"
      ]
     },
     "execution_count": 5,
     "metadata": {},
     "output_type": "execute_result"
    }
   ],
   "source": [
    "df_boat"
   ]
  },
  {
   "cell_type": "markdown",
   "id": "446b376d",
   "metadata": {},
   "source": [
    "# 2. Data Cleaning"
   ]
  },
  {
   "cell_type": "code",
   "execution_count": null,
   "id": "8f9c7587",
   "metadata": {},
   "outputs": [],
   "source": []
  },
  {
   "cell_type": "code",
   "execution_count": 6,
   "id": "2e6ca8f2",
   "metadata": {},
   "outputs": [
    {
     "data": {
      "text/plain": [
       "(6001, 13)"
      ]
     },
     "execution_count": 6,
     "metadata": {},
     "output_type": "execute_result"
    }
   ],
   "source": [
    "df_boat.shape"
   ]
  },
  {
   "cell_type": "code",
   "execution_count": 7,
   "id": "4d6dcfab",
   "metadata": {},
   "outputs": [
    {
     "data": {
      "text/plain": [
       "Price                          0\n",
       "Boat Type                      0\n",
       "Manufacturer                   0\n",
       "Type                           0\n",
       "Year Built                     0\n",
       "Length                         0\n",
       "Width                          0\n",
       "Material                       0\n",
       "Number of views last 7 days    0\n",
       "Currency                       0\n",
       "EURO Price                     0\n",
       "Country                        0\n",
       "City                           0\n",
       "dtype: int64"
      ]
     },
     "execution_count": 7,
     "metadata": {},
     "output_type": "execute_result"
    }
   ],
   "source": [
    "# checking dataframe for missing values\n",
    "df_boat.isnull().sum()"
   ]
  },
  {
   "cell_type": "code",
   "execution_count": 8,
   "id": "24ea007d",
   "metadata": {},
   "outputs": [],
   "source": [
    "# checking dataframe for duplicate values\n",
    "no_dups = df_boat.duplicated()"
   ]
  },
  {
   "cell_type": "code",
   "execution_count": 9,
   "id": "f126250a",
   "metadata": {},
   "outputs": [
    {
     "data": {
      "text/plain": [
       "(6001,)"
      ]
     },
     "execution_count": 9,
     "metadata": {},
     "output_type": "execute_result"
    }
   ],
   "source": [
    "no_dups.shape"
   ]
  },
  {
   "cell_type": "code",
   "execution_count": 10,
   "id": "ae2277fb",
   "metadata": {},
   "outputs": [
    {
     "name": "stderr",
     "output_type": "stream",
     "text": [
      "C:\\Users\\Spero\\anaconda3\\lib\\site-packages\\seaborn\\distributions.py:2619: FutureWarning: `distplot` is a deprecated function and will be removed in a future version. Please adapt your code to use either `displot` (a figure-level function with similar flexibility) or `histplot` (an axes-level function for histograms).\n",
      "  warnings.warn(msg, FutureWarning)\n"
     ]
    },
    {
     "data": {
      "text/plain": [
       "<AxesSubplot:xlabel='Length', ylabel='Density'>"
      ]
     },
     "execution_count": 10,
     "metadata": {},
     "output_type": "execute_result"
    },
    {
     "data": {
      "image/png": "[encoded data removed]",
      "text/plain": [
       "<Figure size 640x480 with 1 Axes>"
      ]
     },
     "metadata": {},
     "output_type": "display_data"
    }
   ],
   "source": [
    "# checking for outliers\n",
    "sns.distplot(df_boat['Length'], bins=30)"
   ]
  },
  {
   "cell_type": "code",
   "execution_count": 11,
   "id": "a9718714",
   "metadata": {},
   "outputs": [
    {
     "data": {
      "text/plain": [
       "10.834530911514786"
      ]
     },
     "execution_count": 11,
     "metadata": {},
     "output_type": "execute_result"
    }
   ],
   "source": [
    "# check the mean of the Length column\n",
    "df_boat['Length'].mean()"
   ]
  },
  {
   "cell_type": "code",
   "execution_count": 12,
   "id": "59aeb3d5",
   "metadata": {},
   "outputs": [
    {
     "data": {
      "text/plain": [
       "9.88"
      ]
     },
     "execution_count": 12,
     "metadata": {},
     "output_type": "execute_result"
    }
   ],
   "source": [
    "# checking the median of the Length Column\n",
    "df_boat['Length'].median()"
   ]
  },
  {
   "cell_type": "code",
   "execution_count": 13,
   "id": "e3b3b095",
   "metadata": {},
   "outputs": [
    {
     "data": {
      "text/plain": [
       "56.0"
      ]
     },
     "execution_count": 13,
     "metadata": {},
     "output_type": "execute_result"
    }
   ],
   "source": [
    "# Checking for the max value in the length column\n",
    "df_boat['Length'].max()"
   ]
  },
  {
   "cell_type": "markdown",
   "id": "63b75027",
   "metadata": {},
   "source": [
    "# 3. Prep Data for Regression Analysis"
   ]
  },
  {
   "cell_type": "code",
   "execution_count": 14,
   "id": "2b217550",
   "metadata": {},
   "outputs": [
    {
     "data": {
      "image/png": "[encoded data removed]",
      "text/plain": [
       "<Figure size 640x480 with 1 Axes>"
      ]
     },
     "metadata": {},
     "output_type": "display_data"
    }
   ],
   "source": [
    "# Create a scatterplot to see how the variables plot against each other\n",
    "df_boat.plot(x = 'Length', y='EURO Price', style='o')\n",
    "plt.title('Boat Length vs Price')\n",
    "plt.xlabel('Length')\n",
    "plt.ylabel('Price in Euros')\n",
    "plt.show()"
   ]
  },
  {
   "cell_type": "code",
   "execution_count": 15,
   "id": "d9acd990",
   "metadata": {},
   "outputs": [],
   "source": [
    "#Reshaping variables into NumPy arrarys annd place them in their ouwn objects\n",
    "X = df_boat['Length'].values.reshape(-1,1)\n",
    "y = df_boat['EURO Price'].values.reshape(-1,1)"
   ]
  },
  {
   "cell_type": "code",
   "execution_count": 16,
   "id": "e1285db5",
   "metadata": {},
   "outputs": [
    {
     "data": {
      "text/plain": [
       "array([[4.  ],\n",
       "       [3.55],\n",
       "       [4.35],\n",
       "       ...,\n",
       "       [6.  ],\n",
       "       [4.4 ],\n",
       "       [3.6 ]])"
      ]
     },
     "execution_count": 16,
     "metadata": {},
     "output_type": "execute_result"
    }
   ],
   "source": [
    "X"
   ]
  },
  {
   "cell_type": "code",
   "execution_count": 17,
   "id": "3d9f6a4c",
   "metadata": {},
   "outputs": [
    {
     "data": {
      "text/plain": [
       "array([[3490. ],\n",
       "       [3399. ],\n",
       "       [3535. ],\n",
       "       ...,\n",
       "       [4999.5],\n",
       "       [4499. ],\n",
       "       [3817.8]])"
      ]
     },
     "execution_count": 17,
     "metadata": {},
     "output_type": "execute_result"
    }
   ],
   "source": [
    "y"
   ]
  },
  {
   "cell_type": "code",
   "execution_count": 18,
   "id": "791be68b",
   "metadata": {},
   "outputs": [],
   "source": [
    "# Split data into sets for training and testing\n",
    "X_train, X_test, y_train, y_test = train_test_split(X, y, test_size=0.3, random_state=0)"
   ]
  },
  {
   "cell_type": "markdown",
   "id": "57de7818",
   "metadata": {},
   "source": [
    "# My hypothesis for this regression model is the length of the boat determines the price of the boat. If the boat has a higher length then the price will increase."
   ]
  },
  {
   "cell_type": "markdown",
   "id": "351fa343",
   "metadata": {},
   "source": [
    "# 4. Regression Analysis"
   ]
  },
  {
   "cell_type": "code",
   "execution_count": 19,
   "id": "232d007f",
   "metadata": {},
   "outputs": [],
   "source": [
    "# Create a regression onject\n",
    "regression = LinearRegression()"
   ]
  },
  {
   "cell_type": "code",
   "execution_count": 20,
   "id": "620c4f5a",
   "metadata": {},
   "outputs": [
    {
     "data": {
      "text/plain": [
       "LinearRegression()"
      ]
     },
     "execution_count": 20,
     "metadata": {},
     "output_type": "execute_result"
    }
   ],
   "source": [
    "# Fit the regression object into the training set\n",
    "regression.fit(X_train, y_train)"
   ]
  },
  {
   "cell_type": "code",
   "execution_count": 21,
   "id": "ad243311",
   "metadata": {},
   "outputs": [],
   "source": [
    "# Predicting the values of y by using the values of X\n",
    "y_predicted = regression.predict(X_test)"
   ]
  },
  {
   "cell_type": "code",
   "execution_count": 22,
   "id": "d32bf447",
   "metadata": {},
   "outputs": [
    {
     "data": {
      "image/png": "[encoded data removed]",
      "text/plain": [
       "<Figure size 640x480 with 1 Axes>"
      ]
     },
     "metadata": {},
     "output_type": "display_data"
    }
   ],
   "source": [
    "#Create a scatter plot that uses the regression line from the model on the test set\n",
    "plot_test = plt\n",
    "plot_test.scatter(X_test, y_test, color='blue', s= 20)\n",
    "plot_test.plot(X_test, y_predicted, color='red', linewidth = 3)\n",
    "plot_test.title('Boat Length vs Price (Test Set)')\n",
    "plot_test.xlabel('Boat Length')\n",
    "plot_test.ylabel('Price in Euros')\n",
    "plot_test.show()"
   ]
  },
  {
   "cell_type": "code",
   "execution_count": 23,
   "id": "d6fe3c2c",
   "metadata": {},
   "outputs": [],
   "source": [
    "# create objects to check model summary\n",
    "rsme = mean_squared_error(y_test, y_predicted)\n",
    "r2 = r2_score(y_test, y_predicted)"
   ]
  },
  {
   "cell_type": "code",
   "execution_count": 24,
   "id": "239015f0",
   "metadata": {},
   "outputs": [
    {
     "name": "stdout",
     "output_type": "stream",
     "text": [
      "Slope: [[87136.89965407]]\n",
      "Mean squared error:  188072770517.24118\n",
      "R2 score:  0.3753624993083643\n"
     ]
    }
   ],
   "source": [
    "# check model summary\n",
    "print('Slope:' , regression.coef_)\n",
    "print('Mean squared error: ', rsme)\n",
    "print('R2 score: ', r2)"
   ]
  },
  {
   "cell_type": "markdown",
   "id": "f88a27a5",
   "metadata": {},
   "source": [
    "# Ananlysis\n",
    "## The slope shows a positive relationship. The slope does align with the hypothesis of higher boath length means a higher price. However the MSE is 188072770517 which is very high. This means that the regression line doesn't represent the data. Finally the R2 score is 0.38 with the score being close to 0 means it is a poor fit."
   ]
  },
  {
   "cell_type": "code",
   "execution_count": 25,
   "id": "6c0e8d50",
   "metadata": {},
   "outputs": [
    {
     "data": {
      "text/plain": [
       "array([[ 193169.69573159],\n",
       "       [-144050.10592967],\n",
       "       [ 209725.70666586],\n",
       "       ...,\n",
       "       [-137950.52295389],\n",
       "       [  10182.20645803],\n",
       "       [  -4631.06648316]])"
      ]
     },
     "execution_count": 25,
     "metadata": {},
     "output_type": "execute_result"
    }
   ],
   "source": [
    "y_predicted"
   ]
  },
  {
   "cell_type": "code",
   "execution_count": 26,
   "id": "f5a9e8b4",
   "metadata": {},
   "outputs": [],
   "source": [
    "# make a new dataframe to compare the actual values vs. the predicted values\n",
    "df = pd.DataFrame({'Actual': y_test.flatten(), 'Predicted': y_predicted.flatten()})"
   ]
  },
  {
   "cell_type": "code",
   "execution_count": 27,
   "id": "29404fbc",
   "metadata": {},
   "outputs": [
    {
     "data": {
      "text/html": [
       "<div>\n",
       "<style scoped>\n",
       "    .dataframe tbody tr th:only-of-type {\n",
       "        vertical-align: middle;\n",
       "    }\n",
       "\n",
       "    .dataframe tbody tr th {\n",
       "        vertical-align: top;\n",
       "    }\n",
       "\n",
       "    .dataframe thead th {\n",
       "        text-align: right;\n",
       "    }\n",
       "</style>\n",
       "<table border=\"1\" class=\"dataframe\">\n",
       "  <thead>\n",
       "    <tr style=\"text-align: right;\">\n",
       "      <th></th>\n",
       "      <th>Actual</th>\n",
       "      <th>Predicted</th>\n",
       "    </tr>\n",
       "  </thead>\n",
       "  <tbody>\n",
       "    <tr>\n",
       "      <th>0</th>\n",
       "      <td>69900.0</td>\n",
       "      <td>1.931697e+05</td>\n",
       "    </tr>\n",
       "    <tr>\n",
       "      <th>1</th>\n",
       "      <td>55449.0</td>\n",
       "      <td>-1.440501e+05</td>\n",
       "    </tr>\n",
       "    <tr>\n",
       "      <th>2</th>\n",
       "      <td>90000.0</td>\n",
       "      <td>2.097257e+05</td>\n",
       "    </tr>\n",
       "    <tr>\n",
       "      <th>3</th>\n",
       "      <td>38900.0</td>\n",
       "      <td>7.553488e+04</td>\n",
       "    </tr>\n",
       "    <tr>\n",
       "      <th>4</th>\n",
       "      <td>150000.0</td>\n",
       "      <td>-5.778458e+04</td>\n",
       "    </tr>\n",
       "    <tr>\n",
       "      <th>5</th>\n",
       "      <td>187000.0</td>\n",
       "      <td>8.860542e+04</td>\n",
       "    </tr>\n",
       "    <tr>\n",
       "      <th>6</th>\n",
       "      <td>34500.0</td>\n",
       "      <td>-8.479701e+04</td>\n",
       "    </tr>\n",
       "    <tr>\n",
       "      <th>7</th>\n",
       "      <td>575000.0</td>\n",
       "      <td>1.147319e+06</td>\n",
       "    </tr>\n",
       "    <tr>\n",
       "      <th>8</th>\n",
       "      <td>99890.0</td>\n",
       "      <td>1.018221e+04</td>\n",
       "    </tr>\n",
       "    <tr>\n",
       "      <th>9</th>\n",
       "      <td>15500.0</td>\n",
       "      <td>-9.873892e+04</td>\n",
       "    </tr>\n",
       "    <tr>\n",
       "      <th>10</th>\n",
       "      <td>99000.0</td>\n",
       "      <td>7.553488e+04</td>\n",
       "    </tr>\n",
       "    <tr>\n",
       "      <th>11</th>\n",
       "      <td>350000.0</td>\n",
       "      <td>7.726301e+05</td>\n",
       "    </tr>\n",
       "    <tr>\n",
       "      <th>12</th>\n",
       "      <td>105000.0</td>\n",
       "      <td>6.507845e+04</td>\n",
       "    </tr>\n",
       "    <tr>\n",
       "      <th>13</th>\n",
       "      <td>19990.0</td>\n",
       "      <td>-2.669131e+05</td>\n",
       "    </tr>\n",
       "    <tr>\n",
       "      <th>14</th>\n",
       "      <td>44900.0</td>\n",
       "      <td>-1.510211e+05</td>\n",
       "    </tr>\n",
       "    <tr>\n",
       "      <th>15</th>\n",
       "      <td>79537.5</td>\n",
       "      <td>-2.205845e+04</td>\n",
       "    </tr>\n",
       "    <tr>\n",
       "      <th>16</th>\n",
       "      <td>72000.0</td>\n",
       "      <td>2.149539e+05</td>\n",
       "    </tr>\n",
       "    <tr>\n",
       "      <th>17</th>\n",
       "      <td>66990.0</td>\n",
       "      <td>-9.002523e+04</td>\n",
       "    </tr>\n",
       "    <tr>\n",
       "      <th>18</th>\n",
       "      <td>49490.0</td>\n",
       "      <td>-5.865594e+04</td>\n",
       "    </tr>\n",
       "    <tr>\n",
       "      <th>19</th>\n",
       "      <td>245000.0</td>\n",
       "      <td>4.502235e+05</td>\n",
       "    </tr>\n",
       "    <tr>\n",
       "      <th>20</th>\n",
       "      <td>51000.0</td>\n",
       "      <td>7.553488e+04</td>\n",
       "    </tr>\n",
       "    <tr>\n",
       "      <th>21</th>\n",
       "      <td>78000.0</td>\n",
       "      <td>3.090618e+05</td>\n",
       "    </tr>\n",
       "    <tr>\n",
       "      <th>22</th>\n",
       "      <td>69500.0</td>\n",
       "      <td>5.007630e+05</td>\n",
       "    </tr>\n",
       "    <tr>\n",
       "      <th>23</th>\n",
       "      <td>45450.0</td>\n",
       "      <td>-5.778458e+04</td>\n",
       "    </tr>\n",
       "    <tr>\n",
       "      <th>24</th>\n",
       "      <td>177900.0</td>\n",
       "      <td>5.983563e+05</td>\n",
       "    </tr>\n",
       "    <tr>\n",
       "      <th>25</th>\n",
       "      <td>23735.0</td>\n",
       "      <td>-1.841331e+05</td>\n",
       "    </tr>\n",
       "    <tr>\n",
       "      <th>26</th>\n",
       "      <td>275000.0</td>\n",
       "      <td>5.922567e+05</td>\n",
       "    </tr>\n",
       "    <tr>\n",
       "      <th>27</th>\n",
       "      <td>25149.0</td>\n",
       "      <td>9.731911e+04</td>\n",
       "    </tr>\n",
       "    <tr>\n",
       "      <th>28</th>\n",
       "      <td>59000.0</td>\n",
       "      <td>3.116759e+05</td>\n",
       "    </tr>\n",
       "    <tr>\n",
       "      <th>29</th>\n",
       "      <td>58500.0</td>\n",
       "      <td>-4.297130e+04</td>\n",
       "    </tr>\n",
       "    <tr>\n",
       "      <th>30</th>\n",
       "      <td>98000.0</td>\n",
       "      <td>2.053689e+05</td>\n",
       "    </tr>\n",
       "    <tr>\n",
       "      <th>31</th>\n",
       "      <td>75699.5</td>\n",
       "      <td>-3.077214e+04</td>\n",
       "    </tr>\n",
       "    <tr>\n",
       "      <th>32</th>\n",
       "      <td>69900.0</td>\n",
       "      <td>-8.218291e+04</td>\n",
       "    </tr>\n",
       "    <tr>\n",
       "      <th>33</th>\n",
       "      <td>78780.0</td>\n",
       "      <td>-2.120169e+05</td>\n",
       "    </tr>\n",
       "    <tr>\n",
       "      <th>34</th>\n",
       "      <td>210000.0</td>\n",
       "      <td>2.820493e+05</td>\n",
       "    </tr>\n",
       "    <tr>\n",
       "      <th>35</th>\n",
       "      <td>218000.0</td>\n",
       "      <td>2.715929e+05</td>\n",
       "    </tr>\n",
       "    <tr>\n",
       "      <th>36</th>\n",
       "      <td>29000.0</td>\n",
       "      <td>1.426303e+05</td>\n",
       "    </tr>\n",
       "    <tr>\n",
       "      <th>37</th>\n",
       "      <td>22220.0</td>\n",
       "      <td>3.196643e+04</td>\n",
       "    </tr>\n",
       "    <tr>\n",
       "      <th>38</th>\n",
       "      <td>180000.0</td>\n",
       "      <td>3.805140e+05</td>\n",
       "    </tr>\n",
       "    <tr>\n",
       "      <th>39</th>\n",
       "      <td>16900.0</td>\n",
       "      <td>-2.207306e+05</td>\n",
       "    </tr>\n",
       "    <tr>\n",
       "      <th>40</th>\n",
       "      <td>315000.0</td>\n",
       "      <td>5.417173e+05</td>\n",
       "    </tr>\n",
       "    <tr>\n",
       "      <th>41</th>\n",
       "      <td>65000.0</td>\n",
       "      <td>8.424857e+04</td>\n",
       "    </tr>\n",
       "    <tr>\n",
       "      <th>42</th>\n",
       "      <td>495000.0</td>\n",
       "      <td>8.249122e+05</td>\n",
       "    </tr>\n",
       "    <tr>\n",
       "      <th>43</th>\n",
       "      <td>36137.8</td>\n",
       "      <td>-2.250874e+05</td>\n",
       "    </tr>\n",
       "    <tr>\n",
       "      <th>44</th>\n",
       "      <td>40000.0</td>\n",
       "      <td>1.896842e+05</td>\n",
       "    </tr>\n",
       "    <tr>\n",
       "      <th>45</th>\n",
       "      <td>33000.0</td>\n",
       "      <td>8.424857e+04</td>\n",
       "    </tr>\n",
       "    <tr>\n",
       "      <th>46</th>\n",
       "      <td>110000.0</td>\n",
       "      <td>4.458667e+05</td>\n",
       "    </tr>\n",
       "    <tr>\n",
       "      <th>47</th>\n",
       "      <td>62620.0</td>\n",
       "      <td>1.173606e+05</td>\n",
       "    </tr>\n",
       "    <tr>\n",
       "      <th>48</th>\n",
       "      <td>3838.0</td>\n",
       "      <td>-3.244235e+05</td>\n",
       "    </tr>\n",
       "    <tr>\n",
       "      <th>49</th>\n",
       "      <td>31000.0</td>\n",
       "      <td>6.594982e+04</td>\n",
       "    </tr>\n",
       "  </tbody>\n",
       "</table>\n",
       "</div>"
      ],
      "text/plain": [
       "      Actual     Predicted\n",
       "0    69900.0  1.931697e+05\n",
       "1    55449.0 -1.440501e+05\n",
       "2    90000.0  2.097257e+05\n",
       "3    38900.0  7.553488e+04\n",
       "4   150000.0 -5.778458e+04\n",
       "5   187000.0  8.860542e+04\n",
       "6    34500.0 -8.479701e+04\n",
       "7   575000.0  1.147319e+06\n",
       "8    99890.0  1.018221e+04\n",
       "9    15500.0 -9.873892e+04\n",
       "10   99000.0  7.553488e+04\n",
       "11  350000.0  7.726301e+05\n",
       "12  105000.0  6.507845e+04\n",
       "13   19990.0 -2.669131e+05\n",
       "14   44900.0 -1.510211e+05\n",
       "15   79537.5 -2.205845e+04\n",
       "16   72000.0  2.149539e+05\n",
       "17   66990.0 -9.002523e+04\n",
       "18   49490.0 -5.865594e+04\n",
       "19  245000.0  4.502235e+05\n",
       "20   51000.0  7.553488e+04\n",
       "21   78000.0  3.090618e+05\n",
       "22   69500.0  5.007630e+05\n",
       "23   45450.0 -5.778458e+04\n",
       "24  177900.0  5.983563e+05\n",
       "25   23735.0 -1.841331e+05\n",
       "26  275000.0  5.922567e+05\n",
       "27   25149.0  9.731911e+04\n",
       "28   59000.0  3.116759e+05\n",
       "29   58500.0 -4.297130e+04\n",
       "30   98000.0  2.053689e+05\n",
       "31   75699.5 -3.077214e+04\n",
       "32   69900.0 -8.218291e+04\n",
       "33   78780.0 -2.120169e+05\n",
       "34  210000.0  2.820493e+05\n",
       "35  218000.0  2.715929e+05\n",
       "36   29000.0  1.426303e+05\n",
       "37   22220.0  3.196643e+04\n",
       "38  180000.0  3.805140e+05\n",
       "39   16900.0 -2.207306e+05\n",
       "40  315000.0  5.417173e+05\n",
       "41   65000.0  8.424857e+04\n",
       "42  495000.0  8.249122e+05\n",
       "43   36137.8 -2.250874e+05\n",
       "44   40000.0  1.896842e+05\n",
       "45   33000.0  8.424857e+04\n",
       "46  110000.0  4.458667e+05\n",
       "47   62620.0  1.173606e+05\n",
       "48    3838.0 -3.244235e+05\n",
       "49   31000.0  6.594982e+04"
      ]
     },
     "execution_count": 27,
     "metadata": {},
     "output_type": "execute_result"
    }
   ],
   "source": [
    "df.head(50)"
   ]
  },
  {
   "cell_type": "code",
   "execution_count": 28,
   "id": "6e1678d8",
   "metadata": {},
   "outputs": [],
   "source": [
    "# compare how the regression model fits the training set\n",
    "y_predicted_train = regression.predict(X_train)"
   ]
  },
  {
   "cell_type": "code",
   "execution_count": 29,
   "id": "0863457b",
   "metadata": {},
   "outputs": [],
   "source": [
    "rsme = mean_squared_error(y_train, y_predicted_train)\n",
    "r2 = r2_score(y_train, y_predicted_train)"
   ]
  },
  {
   "cell_type": "code",
   "execution_count": 30,
   "id": "ae1682ce",
   "metadata": {},
   "outputs": [
    {
     "name": "stdout",
     "output_type": "stream",
     "text": [
      "Slope:  [[87136.89965407]]\n",
      "Mean square error:  271273665585.8777\n",
      "R2 score:  0.3999620630643812\n"
     ]
    }
   ],
   "source": [
    "print('Slope: ' ,regression.coef_)\n",
    "print('Mean square error: ', rsme)\n",
    "print('R2 score: ', r2)"
   ]
  },
  {
   "cell_type": "markdown",
   "id": "0dbfabdd",
   "metadata": {},
   "source": [
    "# Include any reflections you have on the impact of possible bias\n",
    "## With the values identical to the model, positive relationship, very high MSE and a low R2, this shows that the boat length does not dtermine the price of a boat very well. This is true because with boats there are many factors that determine the price. Some examples of these other factors include: material, condition, type of boat, and the age of the boat"
   ]
  },
  {
   "cell_type": "code",
   "execution_count": 31,
   "id": "bd1f3f25",
   "metadata": {},
   "outputs": [
    {
     "data": {
      "image/png": "[encoded data removed]",
      "text/plain": [
       "<Figure size 640x480 with 1 Axes>"
      ]
     },
     "metadata": {},
     "output_type": "display_data"
    }
   ],
   "source": [
    "# create a scatterplot using the train data set\n",
    "plot_test = plt\n",
    "plot_test.scatter(X_test, y_test, color='blue', s= 20)\n",
    "plot_test.plot(X_test, y_predicted, color='red', linewidth = 3)\n",
    "plot_test.title('Boat Length vs Price (Train Set)')\n",
    "plot_test.xlabel('Boat Length')\n",
    "plot_test.ylabel('Price in Euros')\n",
    "plot_test.show()"
   ]
  },
  {
   "cell_type": "code",
   "execution_count": null,
   "id": "60a99f58",
   "metadata": {},
   "outputs": [],
   "source": []
  }
 ],
 "metadata": {
  "kernelspec": {
   "display_name": "Python 3 (ipykernel)",
   "language": "python",
   "name": "python3"
  },
  "language_info": {
   "codemirror_mode": {
    "name": "ipython",
    "version": 3
   },
   "file_extension": ".py",
   "mimetype": "text/x-python",
   "name": "python",
   "nbconvert_exporter": "python",
   "pygments_lexer": "ipython3",
   "version": "3.9.13"
  }
 },
 "nbformat": 4,
 "nbformat_minor": 5
}
